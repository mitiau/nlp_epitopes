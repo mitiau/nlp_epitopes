{
 "cells": [
  {
   "cell_type": "markdown",
   "metadata": {
    "colab_type": "text",
    "id": "view-in-github"
   },
   "source": [
    "<a href=\"https://colab.research.google.com/github/mitiau/nlp_epitopes/blob/main/epitope_prediction.ipynb\" target=\"_parent\"><img src=\"https://colab.research.google.com/assets/colab-badge.svg\" alt=\"Open In Colab\"/></a>"
   ]
  },
  {
   "cell_type": "markdown",
   "metadata": {
    "id": "f59Ujuujn___"
   },
   "source": [
    "# Install dependecies and download weights"
   ]
  },
  {
   "cell_type": "code",
   "execution_count": null,
   "metadata": {},
   "outputs": [],
   "source": [
    "#Code provided according Creative Commons Attribution-NonCommercial-ShareAlike 4.0 International Public License"
   ]
  },
  {
   "cell_type": "code",
   "execution_count": 2,
   "metadata": {
    "colab": {
     "base_uri": "https://localhost:8080/"
    },
    "id": "apiUcTpNTnlU",
    "outputId": "d7491c10-dae0-4701-844d-1c76d0353a04"
   },
   "outputs": [
    {
     "name": "stdout",
     "output_type": "stream",
     "text": [
      "Requirement already satisfied: transformers in /usr/local/lib/python3.7/dist-packages (4.12.3)\n",
      "Requirement already satisfied: sacremoses in /usr/local/lib/python3.7/dist-packages (from transformers) (0.0.46)\n",
      "Requirement already satisfied: packaging>=20.0 in /usr/local/lib/python3.7/dist-packages (from transformers) (21.2)\n",
      "Requirement already satisfied: filelock in /usr/local/lib/python3.7/dist-packages (from transformers) (3.3.2)\n",
      "Requirement already satisfied: pyyaml>=5.1 in /usr/local/lib/python3.7/dist-packages (from transformers) (6.0)\n",
      "Requirement already satisfied: numpy>=1.17 in /usr/local/lib/python3.7/dist-packages (from transformers) (1.19.5)\n",
      "Requirement already satisfied: requests in /usr/local/lib/python3.7/dist-packages (from transformers) (2.23.0)\n",
      "Requirement already satisfied: regex!=2019.12.17 in /usr/local/lib/python3.7/dist-packages (from transformers) (2019.12.20)\n",
      "Requirement already satisfied: huggingface-hub<1.0,>=0.1.0 in /usr/local/lib/python3.7/dist-packages (from transformers) (0.1.2)\n",
      "Requirement already satisfied: tokenizers<0.11,>=0.10.1 in /usr/local/lib/python3.7/dist-packages (from transformers) (0.10.3)\n",
      "Requirement already satisfied: tqdm>=4.27 in /usr/local/lib/python3.7/dist-packages (from transformers) (4.62.3)\n",
      "Requirement already satisfied: importlib-metadata in /usr/local/lib/python3.7/dist-packages (from transformers) (4.8.2)\n",
      "Requirement already satisfied: typing-extensions>=3.7.4.3 in /usr/local/lib/python3.7/dist-packages (from huggingface-hub<1.0,>=0.1.0->transformers) (3.10.0.2)\n",
      "Requirement already satisfied: pyparsing<3,>=2.0.2 in /usr/local/lib/python3.7/dist-packages (from packaging>=20.0->transformers) (2.4.7)\n",
      "Requirement already satisfied: zipp>=0.5 in /usr/local/lib/python3.7/dist-packages (from importlib-metadata->transformers) (3.6.0)\n",
      "Requirement already satisfied: chardet<4,>=3.0.2 in /usr/local/lib/python3.7/dist-packages (from requests->transformers) (3.0.4)\n",
      "Requirement already satisfied: idna<3,>=2.5 in /usr/local/lib/python3.7/dist-packages (from requests->transformers) (2.10)\n",
      "Requirement already satisfied: urllib3!=1.25.0,!=1.25.1,<1.26,>=1.21.1 in /usr/local/lib/python3.7/dist-packages (from requests->transformers) (1.24.3)\n",
      "Requirement already satisfied: certifi>=2017.4.17 in /usr/local/lib/python3.7/dist-packages (from requests->transformers) (2021.10.8)\n",
      "Requirement already satisfied: six in /usr/local/lib/python3.7/dist-packages (from sacremoses->transformers) (1.15.0)\n",
      "Requirement already satisfied: click in /usr/local/lib/python3.7/dist-packages (from sacremoses->transformers) (7.1.2)\n",
      "Requirement already satisfied: joblib in /usr/local/lib/python3.7/dist-packages (from sacremoses->transformers) (1.1.0)\n",
      "Requirement already satisfied: fair-esm in /usr/local/lib/python3.7/dist-packages (0.4.0)\n",
      "Requirement already satisfied: biopython in /usr/local/lib/python3.7/dist-packages (1.79)\n",
      "Requirement already satisfied: numpy in /usr/local/lib/python3.7/dist-packages (from biopython) (1.19.5)\n",
      "Requirement already satisfied: gdown in /usr/local/lib/python3.7/dist-packages (3.6.4)\n",
      "Requirement already satisfied: six in /usr/local/lib/python3.7/dist-packages (from gdown) (1.15.0)\n",
      "Requirement already satisfied: tqdm in /usr/local/lib/python3.7/dist-packages (from gdown) (4.62.3)\n",
      "Requirement already satisfied: requests in /usr/local/lib/python3.7/dist-packages (from gdown) (2.23.0)\n",
      "Requirement already satisfied: idna<3,>=2.5 in /usr/local/lib/python3.7/dist-packages (from requests->gdown) (2.10)\n",
      "Requirement already satisfied: certifi>=2017.4.17 in /usr/local/lib/python3.7/dist-packages (from requests->gdown) (2021.10.8)\n",
      "Requirement already satisfied: chardet<4,>=3.0.2 in /usr/local/lib/python3.7/dist-packages (from requests->gdown) (3.0.4)\n",
      "Requirement already satisfied: urllib3!=1.25.0,!=1.25.1,<1.26,>=1.21.1 in /usr/local/lib/python3.7/dist-packages (from requests->gdown) (1.24.3)\n"
     ]
    }
   ],
   "source": [
    "!pip install transformers\n",
    "!pip install fair-esm\n",
    "!pip install biopython\n",
    "!pip install gdown"
   ]
  },
  {
   "cell_type": "code",
   "execution_count": 3,
   "metadata": {
    "colab": {
     "base_uri": "https://localhost:8080/"
    },
    "id": "xRTRpFm3-lbl",
    "outputId": "87d516b7-820e-49e7-81cd-b6a68c26b5cc"
   },
   "outputs": [
    {
     "name": "stdout",
     "output_type": "stream",
     "text": [
      "Downloading...\n",
      "From: https://drive.google.com/uc?id=1VaOtlK389p4XDfPfiEb8Xt1EMdGghJDI\n",
      "To: /content/esm1v_ft_epitopes_0.pth\n",
      "100% 2.61G/2.61G [00:29<00:00, 87.4MB/s]\n",
      "Downloading...\n",
      "From: https://drive.google.com/uc?id=1doP6d6K6O5DHzi0EhXYqeNVHChVDB9cu\n",
      "To: /content/esm1v_ft_epitopes_1.pth\n",
      "100% 2.61G/2.61G [00:52<00:00, 49.5MB/s]\n",
      "Downloading...\n",
      "From: https://drive.google.com/uc?id=1KYS8y28I1Ul4sXInWufwxi560-h2nahD\n",
      "To: /content/esm1v_ft_epitopes_2.pth\n",
      "100% 2.61G/2.61G [00:52<00:00, 50.1MB/s]\n",
      "Downloading...\n",
      "From: https://drive.google.com/uc?id=1Z5wEwnZgn3oUGubBVUbOy6fOuiA2F5Dh\n",
      "To: /content/esm1v_ft_epitopes_3.pth\n",
      "100% 2.61G/2.61G [00:54<00:00, 48.1MB/s]\n",
      "Downloading...\n",
      "From: https://drive.google.com/uc?id=1P0zm_AcRFCAE3Y8w_25yoyyME4q1eqCQ\n",
      "To: /content/esm1v_ft_epitopes_4.pth\n",
      "100% 2.61G/2.61G [00:54<00:00, 47.8MB/s]\n",
      "Downloading...\n",
      "From: https://drive.google.com/uc?id=15-WU5YuslcYPS76C8LVUGBBBHSURTCkR\n",
      "To: /content/dummy.fasta\n",
      "100% 26.8k/26.8k [00:00<00:00, 22.0MB/s]\n"
     ]
    }
   ],
   "source": [
    "!gdown --id 1993ZcxUx_PcRlZb015yexJa1CZzfBqog\n",
    "!gdown --id 1RU_hkcOMmQYP1lQV8zCxso3zrTT16BKj\n",
    "!gdown --id 1e6k4q023WTrwpdBOl4hV_HqNTy6EwUrJ\n",
    "!gdown --id 1U065cgX7FVugZVs09ecr5N1hyq_5P9If\n",
    "!gdown --id 1yyQRvvv4a1ZoVuv0veAwe8__rInM_fKB\n",
    "!gdown --id 15-WU5YuslcYPS76C8LVUGBBBHSURTCkR"
   ]
  },
  {
   "cell_type": "code",
   "execution_count": 1,
   "metadata": {
    "id": "Bsyfz4BrSxMN"
   },
   "outputs": [],
   "source": [
    "from google.colab import drive, files\n",
    "\n",
    "import torch\n",
    "from torch.utils.data import Dataset\n",
    "from torch import nn\n",
    "\n",
    "import transformers\n",
    "from transformers.modeling_outputs import SequenceClassifierOutput\n",
    "\n",
    "import pandas as pd\n",
    "import numpy as np\n",
    "\n",
    "import esm\n",
    "from esm import ProteinBertModel\n",
    "from esm.pretrained import load_model_and_alphabet_hub\n",
    "\n",
    "from Bio import SeqIO\n",
    "from io import StringIO, BytesIO\n",
    "from tqdm import tqdm"
   ]
  },
  {
   "cell_type": "code",
   "execution_count": 2,
   "metadata": {
    "id": "hYLdBMG7UUx3"
   },
   "outputs": [],
   "source": [
    "class ESM1vForTokenClassification(nn.Module):\n",
    "\n",
    "    def __init__(self, num_labels = 2):\n",
    "        super().__init__()\n",
    "        self.num_labels = num_labels       \n",
    "        self.esm1v, self.esm1v_alphabet = load_model_and_alphabet_hub(\"esm1v_t33_650M_UR90S_1\")\n",
    "        self.classifier = nn.Linear(1280, self.num_labels)\n",
    "\n",
    "    def forward(self, token_ids):\n",
    "        outputs = self.esm1v.forward(token_ids, repr_layers=[33])['representations'][33]\n",
    "        outputs = outputs[:,1:-1,:]\n",
    "        logits = self.classifier(outputs)\n",
    "        return SequenceClassifierOutput(logits=logits)\n",
    "    \n",
    "class pred_Dataset(Dataset):\n",
    "    def __init__(self, df):\n",
    "        self.df = df\n",
    "        esm1v_alphabet = esm.Alphabet.from_architecture('roberta_large')\n",
    "        self.esm1v_batch_converter = esm1v_alphabet.get_batch_converter()\n",
    "\n",
    "    def __getitem__(self, idx):\n",
    "        _, _, esm1b_batch_tokens = self.esm1v_batch_converter([('' , ''.join(self.df.iloc[idx,1])[:1022])])\n",
    "        return {'token_ids': esm1b_batch_tokens}\n",
    "    \n",
    "    def __len__(self):\n",
    "        return len(self.df)"
   ]
  },
  {
   "cell_type": "code",
   "execution_count": null,
   "metadata": {
    "id": "N3Pjcm9HvRMC"
   },
   "outputs": [],
   "source": [
    "model = ESM1vForTokenClassification()"
   ]
  },
  {
   "cell_type": "markdown",
   "metadata": {
    "id": "TAp3NQyaupxE"
   },
   "source": [
    "# Compute epitopes"
   ]
  },
  {
   "cell_type": "code",
   "execution_count": null,
   "metadata": {
    "id": "urrTMPfMUrbP"
   },
   "outputs": [],
   "source": [
    "uploaded = files.upload()\n",
    "for fn in uploaded.keys():\n",
    "  print('User uploaded file \"{name}\" with length {length} bytes'.format(\n",
    "      name=fn, length=len(uploaded[fn])))"
   ]
  },
  {
   "cell_type": "code",
   "execution_count": null,
   "metadata": {
    "id": "_1qjq3i-VCEz"
   },
   "outputs": [],
   "source": [
    "for key in uploaded.keys():\n",
    "  identifiers = []\n",
    "  seqs = []\n",
    "  for seq_record in SeqIO.parse(StringIO(BytesIO(uploaded[key]).read().decode('UTF-8')), 'fasta'):  # (generator)\n",
    "    identifiers.append(seq_record.id)\n",
    "    seqs.append(seq_record.seq)\n",
    "\n",
    "  pred_df = pd.DataFrame({'id':identifiers, 'seq': seqs})\n",
    "  pred_ds = pred_Dataset(pred_df)\n",
    "\n",
    "  res=[]\n",
    "  for ens_idx in range(5):\n",
    "    \n",
    "    model.load_state_dict(torch.load('esm1v_ft_epitopes_regr'+str(ens_idx) + '.pth'))\n",
    "    model.eval()\n",
    "    model.cuda()\n",
    "\n",
    "    with torch.no_grad():\n",
    "        preds=[]\n",
    "        for it in tqdm(pred_ds):\n",
    "            preds.append(model.forward(it['token_ids'].cuda())[0][0][:,1].cpu().numpy())\n",
    "    res.append(preds)\n",
    "\n",
    "  merged=[]\n",
    "  for it_idx in range(len(res[0])):\n",
    "    merged.append(np.mean(np.stack([res[i][it_idx] for i in range(5)], axis =0), axis =0))\n",
    "    \n",
    "  pred_df['epitope_prediction'] = merged\n",
    "  pred_df[['id', 'epitope_prediction']].to_pickle(key + '.preds.pkl')"
   ]
  },
  {
   "cell_type": "code",
   "execution_count": null,
   "metadata": {
    "id": "4by6H7tRdcQO"
   },
   "outputs": [],
   "source": [
    "from google.colab import files\n",
    "for key in uploaded.keys():\n",
    "  files.download(key + '.preds.pkl') "
   ]
  }
 ],
 "metadata": {
  "accelerator": "GPU",
  "colab": {
   "include_colab_link": true,
   "name": "epitope_prediction.ipynb",
   "provenance": [],
   "toc_visible": true
  },
  "kernelspec": {
   "display_name": "Python 3",
   "language": "python",
   "name": "python3"
  },
  "language_info": {
   "codemirror_mode": {
    "name": "ipython",
    "version": 3
   },
   "file_extension": ".py",
   "mimetype": "text/x-python",
   "name": "python",
   "nbconvert_exporter": "python",
   "pygments_lexer": "ipython3",
   "version": "3.7.3"
  }
 },
 "nbformat": 4,
 "nbformat_minor": 1
}
